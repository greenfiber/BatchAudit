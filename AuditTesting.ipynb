{
 "cells": [
  {
   "cell_type": "code",
   "execution_count": 16,
   "metadata": {},
   "outputs": [],
   "source": [
    "import pyodbc\n",
    "import logging\n",
    "from os import listdir\n",
    "from os.path import isfile, join,splitext\n",
    "import pandas as pd\n",
    "import xlwings as xw\n",
    "from secret import secrets as secrets\n",
    "cx = pyodbc.connect(\"DSN=gf32;UID={};PWD={}\".format(\n",
    "    secrets.dbusr, secrets.dbpw))\n",
    "\n",
    "def getbatchesfromdb():\n",
    "    query= '''\n",
    "   SELECT distinct \n",
    "       [UDF_BATCH_NO],\n",
    "\t   TRANSACTIONDATE\n",
    "\t   \n",
    "     \n",
    "        FROM [MAS_GFC].[dbo].[AP_INVOICEHISTORYHEADER]\n",
    "        where convert(varchar(8),TRANSACTIONDATE,112) between '20190901' and '20191001'\n",
    "        order by TRANSACTIONDATE desc\n",
    "    \n",
    "    '''\n",
    "    cursor = cx.cursor()\n",
    "    \n",
    "    \n",
    "    cursor.execute(query)\n",
    "    rows = cursor.fetchall()\n",
    "#     data=[]\n",
    "#     for row in rows:\n",
    "#         data.append(row)\n",
    "    return rows\n",
    "def getbatchinfo(batchno):\n",
    "    query= '''\n",
    "   SELECT  \n",
    "       [UDF_BATCH_NO],\n",
    "\t   TRANSACTIONDATE,\n",
    "\t   VENDORNO,\n",
    "\t   INVOICENO,\n",
    "\t   HEADERSEQNO\n",
    "     \n",
    "        FROM [MAS_GFC].[dbo].[AP_INVOICEHISTORYHEADER]\n",
    "        where UDF_BATCH_NO =?\n",
    "        order by TRANSACTIONDATE desc\n",
    "    \n",
    "    '''\n",
    "    cursor = cx.cursor()\n",
    "    \n",
    "    \n",
    "    cursor.execute(query,batchno)\n",
    "    rows = cursor.fetchone()\n",
    "#     data=[]\n",
    "#     for row in rows:\n",
    "#         data.append(row)\n",
    "    return rows\n",
    "    "
   ]
  },
  {
   "cell_type": "code",
   "execution_count": 9,
   "metadata": {},
   "outputs": [
    {
     "name": "stdout",
     "output_type": "stream",
     "text": [
      "Generating batch file list...\n",
      "Generating POBatches list...\n"
     ]
    }
   ],
   "source": [
    "import os\n",
    "print(\"Generating batch file list...\")\n",
    "batchfiles = [f for f in listdir('L:\\\\APBatches') if isfile(join('L:\\\\APBatches',f)) and f.endswith('.pdf')]\n",
    "print(\"Generating POBatches list...\")\n",
    "pofiles = [f for f in listdir('L:\\\\POBatches') if isfile(join('L:\\\\POBatches',f)) and f.endswith('.pdf')]\n",
    "\n",
    "filenames =[]\n",
    "pofilenames=[]\n",
    "for file in batchfiles:\n",
    "    filenames.append(os.path.splitext(file)[0])\n",
    "for file in pofiles:\n",
    "    pofilenames.append(os.path.splitext(file)[0])\n",
    "db=[]\n",
    "rows = getbatchesfromdb()\n",
    "for row in rows:\n",
    "    \n",
    "    db.append(str(row.UDF_BATCH_NO))"
   ]
  },
  {
   "cell_type": "code",
   "execution_count": 12,
   "metadata": {},
   "outputs": [
    {
     "name": "stdout",
     "output_type": "stream",
     "text": [
      "69\n",
      "{'05171', '05201', '85683', '85493', '05059', '85575', '05285', '85700', '85685', '05079', '05223', '05336', '05126', '05172', '85612', '05024', '05282', '05193', '05137', '19374', '05100', '85444', '05209', '85652', '05167', '85639', '85631', '05273', '05170', '05101', '85470', '85716', '05294', '85533', '05181', '85474', '85647', '05113', '85684', '05309', '05333', '05208', '85693', '05230', '05284', '05176', '05065', '85488', '85468', '05115', '05212', '85640', '05112', '85611', '85491', '85590', '85656', '85673', '05221', '05322', '85546', '05144', '05186', '05341', '85672', '85618', '85705', '05194', '05139'}\n"
     ]
    }
   ],
   "source": [
    "missing=set(db)-set(filenames)\n",
    "missing-=set(pofilenames)\n",
    "print(len(missing))\n",
    "print(missing)"
   ]
  },
  {
   "cell_type": "code",
   "execution_count": 28,
   "metadata": {},
   "outputs": [
    {
     "name": "stdout",
     "output_type": "stream",
     "text": [
      "{'batchno': '05171', 'transactiondate': '20190913', 'vendorno': 'LINKPLU', 'invoiceno': '200-3183696', 'headerseqno': '000001'}\n",
      "{'batchno': '05201', 'transactiondate': '20190917', 'vendorno': 'A1RESOU', 'invoiceno': '109847', 'headerseqno': '000001'}\n",
      "{'batchno': '85683', 'transactiondate': '20190927', 'vendorno': 'CASH', 'invoiceno': 'NO CHARGE 4', 'headerseqno': '000000'}\n",
      "{'batchno': '85493', 'transactiondate': '20190911', 'vendorno': 'CHRISCH', 'invoiceno': 'ST 2520', 'headerseqno': '000000'}\n",
      "{'batchno': '05059', 'transactiondate': '20190903', 'vendorno': 'WELLSCC', 'invoiceno': 'CONC090219', 'headerseqno': '000000'}\n",
      "{'batchno': '85575', 'transactiondate': '20190919', 'vendorno': 'CASH', 'invoiceno': '0913201900', 'headerseqno': '000000'}\n",
      "{'batchno': '05285', 'transactiondate': '20190925', 'vendorno': 'WELLSCC', 'invoiceno': 'UNCI032219', 'headerseqno': '000001'}\n",
      "{'batchno': '85700', 'transactiondate': '20190927', 'vendorno': 'ANIMASH', 'invoiceno': 'BN09190000', 'headerseqno': '000000'}\n",
      "{'batchno': '85685', 'transactiondate': '20190927', 'vendorno': 'CASH', 'invoiceno': '4888', 'headerseqno': '000000'}\n",
      "{'batchno': '05079', 'transactiondate': '20190904', 'vendorno': 'SUPPLFR', 'invoiceno': '5161', 'headerseqno': '000003'}\n",
      "{'batchno': '05223', 'transactiondate': '20190919', 'vendorno': 'HUDSOEN', 'invoiceno': '1908033079', 'headerseqno': '000001'}\n",
      "{'batchno': '05336', 'transactiondate': '20190927', 'vendorno': 'FUZEINC', 'invoiceno': '1141622', 'headerseqno': '000001'}\n",
      "{'batchno': '05126', 'transactiondate': '20190909', 'vendorno': 'RINGPOW', 'invoiceno': '0PL4047705', 'headerseqno': '000001'}\n",
      "{'batchno': '05172', 'transactiondate': '20190913', 'vendorno': 'LINKPLU', 'invoiceno': '200-3183696-IN', 'headerseqno': '000000'}\n",
      "{'batchno': '85612', 'transactiondate': '20190923', 'vendorno': 'SALTLKE', 'invoiceno': 'ST 31882', 'headerseqno': '000000'}\n",
      "{'batchno': '05024', 'transactiondate': '20190905', 'vendorno': 'APPEARA', 'invoiceno': '0460623', 'headerseqno': '000000'}\n",
      "{'batchno': '05282', 'transactiondate': '20190925', 'vendorno': 'SWCASH', 'invoiceno': '092319CR', 'headerseqno': '000000'}\n",
      "{'batchno': '05193', 'transactiondate': '20190917', 'vendorno': 'STEPSAV', 'invoiceno': 'FC1903', 'headerseqno': '000001'}\n",
      "{'batchno': '05137', 'transactiondate': '20190911', 'vendorno': 'ARMSTTR', 'invoiceno': '1092122', 'headerseqno': '000002'}\n",
      "{'batchno': '19374', 'transactiondate': '20190928', 'vendorno': 'CDNDEBE', 'invoiceno': 'CKAPP01004', 'headerseqno': '000000'}\n",
      "{'batchno': '05100', 'transactiondate': '20190906', 'vendorno': 'NEXTERU', 'invoiceno': '2383975', 'headerseqno': '000000'}\n",
      "{'batchno': '85444', 'transactiondate': '20190906', 'vendorno': 'CASH', 'invoiceno': '09062019', 'headerseqno': '000000'}\n",
      "{'batchno': '05209', 'transactiondate': '20190919', 'vendorno': 'LINKPLU', 'invoiceno': '200-3178844', 'headerseqno': '000002'}\n",
      "{'batchno': '85652', 'transactiondate': '20190925', 'vendorno': 'JAMESSP', 'invoiceno': '09252019', 'headerseqno': '000000'}\n",
      "{'batchno': '05167', 'transactiondate': '20190913', 'vendorno': 'TRUCKT2', 'invoiceno': '082619999', 'headerseqno': '000001'}\n",
      "{'batchno': '85639', 'transactiondate': '20190925', 'vendorno': 'CASH', 'invoiceno': '09242019', 'headerseqno': '000000'}\n",
      "{'batchno': '85631', 'transactiondate': '20190923', 'vendorno': 'JAMESSP', 'invoiceno': '09202019', 'headerseqno': '000000'}\n",
      "{'batchno': '05273', 'transactiondate': '20190924', 'vendorno': 'BWCSTIN', 'invoiceno': '1003983691', 'headerseqno': '000001'}\n",
      "{'batchno': '05170', 'transactiondate': '20190913', 'vendorno': 'NEXTERU', 'invoiceno': '2387616', 'headerseqno': '000000'}\n",
      "{'batchno': '05101', 'transactiondate': '20190906', 'vendorno': 'PRAXADI', 'invoiceno': '90924861', 'headerseqno': '000001'}\n",
      "{'batchno': '85470', 'transactiondate': '20190910', 'vendorno': 'TERRYKE', 'invoiceno': '09032019', 'headerseqno': '000001'}\n",
      "{'batchno': '85716', 'transactiondate': '20190927', 'vendorno': '8410928', 'invoiceno': 'BN09190400', 'headerseqno': '000000'}\n",
      "{'batchno': '05294', 'transactiondate': '20190926', 'vendorno': 'WELLSCC', 'invoiceno': 'STMT0819', 'headerseqno': '000000'}\n",
      "{'batchno': '85533', 'transactiondate': '20190913', 'vendorno': 'JRSIMPL', 'invoiceno': 'OPSUP7452', 'headerseqno': '000000'}\n",
      "{'batchno': '05181', 'transactiondate': '20190916', 'vendorno': 'TOSHIAM', 'invoiceno': '69741912', 'headerseqno': '000001'}\n",
      "{'batchno': '85474', 'transactiondate': '20190910', 'vendorno': 'MASLOCO', 'invoiceno': '3', 'headerseqno': '000000'}\n",
      "{'batchno': '85647', 'transactiondate': '20190925', 'vendorno': 'CHRISCH', 'invoiceno': 'ST2537', 'headerseqno': '000000'}\n",
      "{'batchno': '05113', 'transactiondate': '20190906', 'vendorno': 'CATERFI', 'invoiceno': '20081401', 'headerseqno': '000001'}\n",
      "{'batchno': '85684', 'transactiondate': '20190927', 'vendorno': 'CASH', 'invoiceno': '4693', 'headerseqno': '000000'}\n",
      "{'batchno': '05309', 'transactiondate': '20190927', 'vendorno': 'NEXTERU', 'invoiceno': '2386981', 'headerseqno': '000001'}\n",
      "{'batchno': '05333', 'transactiondate': '20190927', 'vendorno': 'NEXTERU', 'invoiceno': '2396121', 'headerseqno': '000000'}\n",
      "{'batchno': '05208', 'transactiondate': '20190918', 'vendorno': 'LINKPLU', 'invoiceno': '200-3178844', 'headerseqno': '000001'}\n",
      "{'batchno': '85693', 'transactiondate': '20190927', 'vendorno': 'EDDIENE', 'invoiceno': '09262019', 'headerseqno': '000000'}\n",
      "{'batchno': '05230', 'transactiondate': '20190919', 'vendorno': 'MECKLCN', 'invoiceno': '0007204667-2019-2019', 'headerseqno': '000001'}\n",
      "{'batchno': '05284', 'transactiondate': '20190925', 'vendorno': 'SIMEOSK', 'invoiceno': 'C.LATHAM AUGUST', 'headerseqno': '000001'}\n",
      "{'batchno': '05176', 'transactiondate': '20190913', 'vendorno': 'GRAI847', 'invoiceno': '9137202557', 'headerseqno': '000001'}\n",
      "{'batchno': '05065', 'transactiondate': '20190904', 'vendorno': 'MEIRIGG', 'invoiceno': '101629', 'headerseqno': '000001'}\n",
      "{'batchno': '85488', 'transactiondate': '20190911', 'vendorno': 'CASH', 'invoiceno': '09102019', 'headerseqno': '000001'}\n",
      "{'batchno': '85468', 'transactiondate': '20190910', 'vendorno': 'JAMESSP', 'invoiceno': '09102019', 'headerseqno': '000000'}\n",
      "{'batchno': '05115', 'transactiondate': '20190906', 'vendorno': 'CATERFI', 'invoiceno': '20081401', 'headerseqno': '000002'}\n",
      "{'batchno': '05212', 'transactiondate': '20190918', 'vendorno': 'LINKPLU', 'invoiceno': '200-3182075', 'headerseqno': '000001'}\n",
      "{'batchno': '85640', 'transactiondate': '20190925', 'vendorno': 'JAMESHI', 'invoiceno': '0924201900', 'headerseqno': '000000'}\n",
      "{'batchno': '05112', 'transactiondate': '20190906', 'vendorno': 'M2LEASE', 'invoiceno': '0001073119', 'headerseqno': '000015'}\n",
      "{'batchno': '85611', 'transactiondate': '20190923', 'vendorno': 'BUNZLWE', 'invoiceno': 'ST 91819', 'headerseqno': '000000'}\n",
      "{'batchno': '85491', 'transactiondate': '20190911', 'vendorno': 'ADRIATR', 'invoiceno': 'ST2497', 'headerseqno': '000000'}\n",
      "{'batchno': '85590', 'transactiondate': '20190923', 'vendorno': 'JUANHER', 'invoiceno': 'ST2545', 'headerseqno': '000000'}\n",
      "{'batchno': '85656', 'transactiondate': '20190926', 'vendorno': 'CASH', 'invoiceno': '09252019000', 'headerseqno': '000000'}\n",
      "{'batchno': '85673', 'transactiondate': '20190926', 'vendorno': 'CASH', 'invoiceno': '09112019', 'headerseqno': '000001'}\n",
      "{'batchno': '05221', 'transactiondate': '20190918', 'vendorno': 'DUANEMO', 'invoiceno': '2405323', 'headerseqno': '000002'}\n",
      "{'batchno': '05322', 'transactiondate': '20190927', 'vendorno': 'NEXTERU', 'invoiceno': '2391551', 'headerseqno': '000000'}\n",
      "{'batchno': '85546', 'transactiondate': '20190916', 'vendorno': 'CASH', 'invoiceno': '09132019', 'headerseqno': '000000'}\n",
      "{'batchno': '05144', 'transactiondate': '20190912', 'vendorno': 'AJILOPR', 'invoiceno': '10739920', 'headerseqno': '000000'}\n",
      "{'batchno': '05186', 'transactiondate': '20190918', 'vendorno': 'WELLSCC', 'invoiceno': 'BELL09092019', 'headerseqno': '000000'}\n",
      "{'batchno': '05341', 'transactiondate': '20190928', 'vendorno': 'USBORAX', 'invoiceno': '90252043', 'headerseqno': '000001'}\n",
      "{'batchno': '85672', 'transactiondate': '20190926', 'vendorno': 'CASH', 'invoiceno': '09052019', 'headerseqno': '000001'}\n",
      "{'batchno': '85618', 'transactiondate': '20190923', 'vendorno': 'SNOWCOL', 'invoiceno': '091119', 'headerseqno': '000000'}\n",
      "{'batchno': '85705', 'transactiondate': '20190927', 'vendorno': 'CRISTDE', 'invoiceno': 'ST26234', 'headerseqno': '000000'}\n",
      "{'batchno': '05194', 'transactiondate': '20190917', 'vendorno': 'LIVININ', 'invoiceno': '461-778947', 'headerseqno': '000001'}\n",
      "{'batchno': '05139', 'transactiondate': '20190912', 'vendorno': 'DAYROSS', 'invoiceno': 'TORT6194319', 'headerseqno': '000001'}\n",
      "[{'batchno': '05171', 'transactiondate': '20190913', 'vendorno': 'LINKPLU', 'invoiceno': '200-3183696', 'headerseqno': '000001'}, {'batchno': '05201', 'transactiondate': '20190917', 'vendorno': 'A1RESOU', 'invoiceno': '109847', 'headerseqno': '000001'}, {'batchno': '85683', 'transactiondate': '20190927', 'vendorno': 'CASH', 'invoiceno': 'NO CHARGE 4', 'headerseqno': '000000'}, {'batchno': '85493', 'transactiondate': '20190911', 'vendorno': 'CHRISCH', 'invoiceno': 'ST 2520', 'headerseqno': '000000'}, {'batchno': '05059', 'transactiondate': '20190903', 'vendorno': 'WELLSCC', 'invoiceno': 'CONC090219', 'headerseqno': '000000'}, {'batchno': '85575', 'transactiondate': '20190919', 'vendorno': 'CASH', 'invoiceno': '0913201900', 'headerseqno': '000000'}, {'batchno': '05285', 'transactiondate': '20190925', 'vendorno': 'WELLSCC', 'invoiceno': 'UNCI032219', 'headerseqno': '000001'}, {'batchno': '85700', 'transactiondate': '20190927', 'vendorno': 'ANIMASH', 'invoiceno': 'BN09190000', 'headerseqno': '000000'}, {'batchno': '85685', 'transactiondate': '20190927', 'vendorno': 'CASH', 'invoiceno': '4888', 'headerseqno': '000000'}, {'batchno': '05079', 'transactiondate': '20190904', 'vendorno': 'SUPPLFR', 'invoiceno': '5161', 'headerseqno': '000003'}, {'batchno': '05223', 'transactiondate': '20190919', 'vendorno': 'HUDSOEN', 'invoiceno': '1908033079', 'headerseqno': '000001'}, {'batchno': '05336', 'transactiondate': '20190927', 'vendorno': 'FUZEINC', 'invoiceno': '1141622', 'headerseqno': '000001'}, {'batchno': '05126', 'transactiondate': '20190909', 'vendorno': 'RINGPOW', 'invoiceno': '0PL4047705', 'headerseqno': '000001'}, {'batchno': '05172', 'transactiondate': '20190913', 'vendorno': 'LINKPLU', 'invoiceno': '200-3183696-IN', 'headerseqno': '000000'}, {'batchno': '85612', 'transactiondate': '20190923', 'vendorno': 'SALTLKE', 'invoiceno': 'ST 31882', 'headerseqno': '000000'}, {'batchno': '05024', 'transactiondate': '20190905', 'vendorno': 'APPEARA', 'invoiceno': '0460623', 'headerseqno': '000000'}, {'batchno': '05282', 'transactiondate': '20190925', 'vendorno': 'SWCASH', 'invoiceno': '092319CR', 'headerseqno': '000000'}, {'batchno': '05193', 'transactiondate': '20190917', 'vendorno': 'STEPSAV', 'invoiceno': 'FC1903', 'headerseqno': '000001'}, {'batchno': '05137', 'transactiondate': '20190911', 'vendorno': 'ARMSTTR', 'invoiceno': '1092122', 'headerseqno': '000002'}, {'batchno': '19374', 'transactiondate': '20190928', 'vendorno': 'CDNDEBE', 'invoiceno': 'CKAPP01004', 'headerseqno': '000000'}, {'batchno': '05100', 'transactiondate': '20190906', 'vendorno': 'NEXTERU', 'invoiceno': '2383975', 'headerseqno': '000000'}, {'batchno': '85444', 'transactiondate': '20190906', 'vendorno': 'CASH', 'invoiceno': '09062019', 'headerseqno': '000000'}, {'batchno': '05209', 'transactiondate': '20190919', 'vendorno': 'LINKPLU', 'invoiceno': '200-3178844', 'headerseqno': '000002'}, {'batchno': '85652', 'transactiondate': '20190925', 'vendorno': 'JAMESSP', 'invoiceno': '09252019', 'headerseqno': '000000'}, {'batchno': '05167', 'transactiondate': '20190913', 'vendorno': 'TRUCKT2', 'invoiceno': '082619999', 'headerseqno': '000001'}, {'batchno': '85639', 'transactiondate': '20190925', 'vendorno': 'CASH', 'invoiceno': '09242019', 'headerseqno': '000000'}, {'batchno': '85631', 'transactiondate': '20190923', 'vendorno': 'JAMESSP', 'invoiceno': '09202019', 'headerseqno': '000000'}, {'batchno': '05273', 'transactiondate': '20190924', 'vendorno': 'BWCSTIN', 'invoiceno': '1003983691', 'headerseqno': '000001'}, {'batchno': '05170', 'transactiondate': '20190913', 'vendorno': 'NEXTERU', 'invoiceno': '2387616', 'headerseqno': '000000'}, {'batchno': '05101', 'transactiondate': '20190906', 'vendorno': 'PRAXADI', 'invoiceno': '90924861', 'headerseqno': '000001'}, {'batchno': '85470', 'transactiondate': '20190910', 'vendorno': 'TERRYKE', 'invoiceno': '09032019', 'headerseqno': '000001'}, {'batchno': '85716', 'transactiondate': '20190927', 'vendorno': '8410928', 'invoiceno': 'BN09190400', 'headerseqno': '000000'}, {'batchno': '05294', 'transactiondate': '20190926', 'vendorno': 'WELLSCC', 'invoiceno': 'STMT0819', 'headerseqno': '000000'}, {'batchno': '85533', 'transactiondate': '20190913', 'vendorno': 'JRSIMPL', 'invoiceno': 'OPSUP7452', 'headerseqno': '000000'}, {'batchno': '05181', 'transactiondate': '20190916', 'vendorno': 'TOSHIAM', 'invoiceno': '69741912', 'headerseqno': '000001'}, {'batchno': '85474', 'transactiondate': '20190910', 'vendorno': 'MASLOCO', 'invoiceno': '3', 'headerseqno': '000000'}, {'batchno': '85647', 'transactiondate': '20190925', 'vendorno': 'CHRISCH', 'invoiceno': 'ST2537', 'headerseqno': '000000'}, {'batchno': '05113', 'transactiondate': '20190906', 'vendorno': 'CATERFI', 'invoiceno': '20081401', 'headerseqno': '000001'}, {'batchno': '85684', 'transactiondate': '20190927', 'vendorno': 'CASH', 'invoiceno': '4693', 'headerseqno': '000000'}, {'batchno': '05309', 'transactiondate': '20190927', 'vendorno': 'NEXTERU', 'invoiceno': '2386981', 'headerseqno': '000001'}, {'batchno': '05333', 'transactiondate': '20190927', 'vendorno': 'NEXTERU', 'invoiceno': '2396121', 'headerseqno': '000000'}, {'batchno': '05208', 'transactiondate': '20190918', 'vendorno': 'LINKPLU', 'invoiceno': '200-3178844', 'headerseqno': '000001'}, {'batchno': '85693', 'transactiondate': '20190927', 'vendorno': 'EDDIENE', 'invoiceno': '09262019', 'headerseqno': '000000'}, {'batchno': '05230', 'transactiondate': '20190919', 'vendorno': 'MECKLCN', 'invoiceno': '0007204667-2019-2019', 'headerseqno': '000001'}, {'batchno': '05284', 'transactiondate': '20190925', 'vendorno': 'SIMEOSK', 'invoiceno': 'C.LATHAM AUGUST', 'headerseqno': '000001'}, {'batchno': '05176', 'transactiondate': '20190913', 'vendorno': 'GRAI847', 'invoiceno': '9137202557', 'headerseqno': '000001'}, {'batchno': '05065', 'transactiondate': '20190904', 'vendorno': 'MEIRIGG', 'invoiceno': '101629', 'headerseqno': '000001'}, {'batchno': '85488', 'transactiondate': '20190911', 'vendorno': 'CASH', 'invoiceno': '09102019', 'headerseqno': '000001'}, {'batchno': '85468', 'transactiondate': '20190910', 'vendorno': 'JAMESSP', 'invoiceno': '09102019', 'headerseqno': '000000'}, {'batchno': '05115', 'transactiondate': '20190906', 'vendorno': 'CATERFI', 'invoiceno': '20081401', 'headerseqno': '000002'}, {'batchno': '05212', 'transactiondate': '20190918', 'vendorno': 'LINKPLU', 'invoiceno': '200-3182075', 'headerseqno': '000001'}, {'batchno': '85640', 'transactiondate': '20190925', 'vendorno': 'JAMESHI', 'invoiceno': '0924201900', 'headerseqno': '000000'}, {'batchno': '05112', 'transactiondate': '20190906', 'vendorno': 'M2LEASE', 'invoiceno': '0001073119', 'headerseqno': '000015'}, {'batchno': '85611', 'transactiondate': '20190923', 'vendorno': 'BUNZLWE', 'invoiceno': 'ST 91819', 'headerseqno': '000000'}, {'batchno': '85491', 'transactiondate': '20190911', 'vendorno': 'ADRIATR', 'invoiceno': 'ST2497', 'headerseqno': '000000'}, {'batchno': '85590', 'transactiondate': '20190923', 'vendorno': 'JUANHER', 'invoiceno': 'ST2545', 'headerseqno': '000000'}, {'batchno': '85656', 'transactiondate': '20190926', 'vendorno': 'CASH', 'invoiceno': '09252019000', 'headerseqno': '000000'}, {'batchno': '85673', 'transactiondate': '20190926', 'vendorno': 'CASH', 'invoiceno': '09112019', 'headerseqno': '000001'}, {'batchno': '05221', 'transactiondate': '20190918', 'vendorno': 'DUANEMO', 'invoiceno': '2405323', 'headerseqno': '000002'}, {'batchno': '05322', 'transactiondate': '20190927', 'vendorno': 'NEXTERU', 'invoiceno': '2391551', 'headerseqno': '000000'}, {'batchno': '85546', 'transactiondate': '20190916', 'vendorno': 'CASH', 'invoiceno': '09132019', 'headerseqno': '000000'}, {'batchno': '05144', 'transactiondate': '20190912', 'vendorno': 'AJILOPR', 'invoiceno': '10739920', 'headerseqno': '000000'}, {'batchno': '05186', 'transactiondate': '20190918', 'vendorno': 'WELLSCC', 'invoiceno': 'BELL09092019', 'headerseqno': '000000'}, {'batchno': '05341', 'transactiondate': '20190928', 'vendorno': 'USBORAX', 'invoiceno': '90252043', 'headerseqno': '000001'}, {'batchno': '85672', 'transactiondate': '20190926', 'vendorno': 'CASH', 'invoiceno': '09052019', 'headerseqno': '000001'}, {'batchno': '85618', 'transactiondate': '20190923', 'vendorno': 'SNOWCOL', 'invoiceno': '091119', 'headerseqno': '000000'}, {'batchno': '85705', 'transactiondate': '20190927', 'vendorno': 'CRISTDE', 'invoiceno': 'ST26234', 'headerseqno': '000000'}, {'batchno': '05194', 'transactiondate': '20190917', 'vendorno': 'LIVININ', 'invoiceno': '461-778947', 'headerseqno': '000001'}, {'batchno': '05139', 'transactiondate': '20190912', 'vendorno': 'DAYROSS', 'invoiceno': 'TORT6194319', 'headerseqno': '000001'}]\n"
     ]
    }
   ],
   "source": [
    "data={\n",
    "    \"batchno\":\"\",\n",
    "    \"transactiondate\":\"\",\n",
    "    \"vendorno\":\"\",\n",
    "    \"invoiceno\":\"\",\n",
    "    \"headerseqno\":\"\"\n",
    "    \n",
    "}\n",
    "extra=[]\n",
    "for rec in missing:\n",
    "    batch=getbatchinfo(rec)\n",
    "    data['batchno']=batch.UDF_BATCH_NO\n",
    "    data['vendorno']=batch.VENDORNO\n",
    "    data['invoiceno']=batch.INVOICENO\n",
    "    data['headerseqno']=batch.HEADERSEQNO\n",
    "    data['transactiondate']=batch.TRANSACTIONDATE\n",
    "#     print(data)\n",
    "    extra.append(data.copy())\n",
    "# print(extra)"
   ]
  },
  {
   "cell_type": "code",
   "execution_count": 29,
   "metadata": {},
   "outputs": [],
   "source": [
    "df = pd.DataFrame(extra)"
   ]
  },
  {
   "cell_type": "code",
   "execution_count": 30,
   "metadata": {},
   "outputs": [],
   "source": [
    "wb= xw.Book()\n",
    "sheet= wb.sheets['Sheet1']\n",
    "sheet.range('A1').value=df"
   ]
  },
  {
   "cell_type": "code",
   "execution_count": null,
   "metadata": {},
   "outputs": [],
   "source": []
  }
 ],
 "metadata": {
  "kernelspec": {
   "display_name": "Python 3",
   "language": "python",
   "name": "python3"
  },
  "language_info": {
   "codemirror_mode": {
    "name": "ipython",
    "version": 3
   },
   "file_extension": ".py",
   "mimetype": "text/x-python",
   "name": "python",
   "nbconvert_exporter": "python",
   "pygments_lexer": "ipython3",
   "version": "3.7.3"
  }
 },
 "nbformat": 4,
 "nbformat_minor": 4
}

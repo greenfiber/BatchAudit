{
 "cells": [
  {
   "cell_type": "code",
   "execution_count": 50,
   "metadata": {},
   "outputs": [],
   "source": [
    "import pyodbc\n",
    "import logging\n",
    "from os import listdir\n",
    "from os.path import isfile, join,splitext\n",
    "import pandas as pd\n",
    "import xlwings as xw\n",
    "from secret import secrets as secrets\n",
    "cx = pyodbc.connect(\"DSN=gf32;UID={};PWD={}\".format(\n",
    "    secrets.dbusr, secrets.dbpw))\n",
    "\n",
    "def getbatchesfromdb():\n",
    "    query= '''\n",
    "   SELECT distinct \n",
    "       [UDF_BATCH_NO],\n",
    "\t   TRANSACTIONDATE\n",
    "     \n",
    "        FROM [MAS_GFC].[dbo].[AP_INVOICEHISTORYHEADER]\n",
    "        where convert(varchar(8),TRANSACTIONDATE,112) between '20190901' and '20190913'\n",
    "        order by TRANSACTIONDATE desc\n",
    "    \n",
    "    '''\n",
    "    cursor = cx.cursor()\n",
    "    \n",
    "    \n",
    "    cursor.execute(query)\n",
    "    rows = cursor.fetchall()\n",
    "#     data=[]\n",
    "#     for row in rows:\n",
    "#         data.append(row)\n",
    "    return rows"
   ]
  },
  {
   "cell_type": "code",
   "execution_count": 53,
   "metadata": {},
   "outputs": [
    {
     "name": "stdout",
     "output_type": "stream",
     "text": [
      "Generating batch file list...\n",
      "Generating POBatches list...\n"
     ]
    }
   ],
   "source": [
    "import os\n",
    "print(\"Generating batch file list...\")\n",
    "batchfiles = [f for f in listdir('L:\\\\APBatches') if isfile(join('L:\\\\APBatches',f)) and f.endswith('.pdf')]\n",
    "print(\"Generating POBatches list...\")\n",
    "pofiles = [f for f in listdir('L:\\\\POBatches') if isfile(join('L:\\\\POBatches',f)) and f.endswith('.pdf')]\n",
    "\n",
    "filenames =[]\n",
    "pofilenames=[]\n",
    "for file in batchfiles:\n",
    "    filenames.append(os.path.splitext(file)[0])\n",
    "for file in pofiles:\n",
    "    pofilenames.append(os.path.splitext(file)[0])\n",
    "db=[]\n",
    "for row in rows:\n",
    "    db.append(str(row.UDF_BATCH_NO))"
   ]
  },
  {
   "cell_type": "code",
   "execution_count": 54,
   "metadata": {},
   "outputs": [
    {
     "name": "stdout",
     "output_type": "stream",
     "text": [
      "27\n"
     ]
    }
   ],
   "source": [
    "missing=set(db)-set(filenames)\n",
    "missing-=set(pofilenames)\n",
    "print(len(missing))"
   ]
  },
  {
   "cell_type": "code",
   "execution_count": 55,
   "metadata": {},
   "outputs": [],
   "source": [
    "df = pd.DataFrame(missing)"
   ]
  },
  {
   "cell_type": "code",
   "execution_count": 56,
   "metadata": {},
   "outputs": [],
   "source": [
    "wb= xw.Book()\n",
    "sheet= wb.sheets['Sheet1']\n",
    "sheet.range('A1').value=df"
   ]
  },
  {
   "cell_type": "code",
   "execution_count": null,
   "metadata": {},
   "outputs": [],
   "source": []
  }
 ],
 "metadata": {
  "kernelspec": {
   "display_name": "Python 3",
   "language": "python",
   "name": "python3"
  },
  "language_info": {
   "codemirror_mode": {
    "name": "ipython",
    "version": 3
   },
   "file_extension": ".py",
   "mimetype": "text/x-python",
   "name": "python",
   "nbconvert_exporter": "python",
   "pygments_lexer": "ipython3",
   "version": "3.7.3"
  }
 },
 "nbformat": 4,
 "nbformat_minor": 4
}
